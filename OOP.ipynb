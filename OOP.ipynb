{
 "cells": [
  {
   "cell_type": "code",
   "execution_count": 1,
   "metadata": {},
   "outputs": [
    {
     "name": "stdout",
     "output_type": "stream",
     "text": [
      "<class '__main__.MyClass'>\n",
      "<__main__.MyClass object at 0x11000e470>\n"
     ]
    }
   ],
   "source": [
    "class MyClass():\n",
    "    pass\n",
    "\n",
    "mc_1 = MyClass()\n",
    "mc_2 = MyClass()\n",
    "\n",
    "print(type(mc_1))\n",
    "print(mc_2)"
   ]
  },
  {
   "cell_type": "code",
   "execution_count": 31,
   "metadata": {},
   "outputs": [
    {
     "name": "stdout",
     "output_type": "stream",
     "text": [
      "['1', '2', '3']\n"
     ]
    }
   ],
   "source": [
    "mylist = ['1','2','3']\n",
    "print(mylist)"
   ]
  },
  {
   "cell_type": "code",
   "execution_count": 34,
   "metadata": {},
   "outputs": [
    {
     "name": "stdout",
     "output_type": "stream",
     "text": [
      "['3', '2', '1']\n"
     ]
    }
   ],
   "source": [
    "mylist1 = mylist[::-1]\n",
    "print(mylist1)"
   ]
  },
  {
   "cell_type": "code",
   "execution_count": 35,
   "metadata": {},
   "outputs": [
    {
     "name": "stdout",
     "output_type": "stream",
     "text": [
      "[1, 2, 3, 4, 5]\n",
      "[1, 2, 3, 4, 5, 6]\n",
      "[6, 5, 4, 3, 2, 1]\n"
     ]
    }
   ],
   "source": [
    "# The SuperList definition from the previous\n",
    "# screen is copied here for your convenience\n",
    "\n",
    "class SuperList():\n",
    "    \"\"\"\n",
    "    A Python list with some extras!\n",
    "    \"\"\"\n",
    "    def __init__(self, initial_state=[]):\n",
    "        self._data = initial_state\n",
    "    \n",
    "    def __repr__(self):\n",
    "        string_representation = str(self._data)\n",
    "        return string_representation\n",
    "    \n",
    "    def __eq__(self, other):\n",
    "        \n",
    "        is_equal = self.__dict__ == other.__dict__\n",
    "        return is_equal\n",
    "    \n",
    "    def append(self, inp):\n",
    "        self._data = self._data + [inp]\n",
    "    def reverse(self):\n",
    "        self._data = self._data[::-1]\n",
    "\n",
    "my_list = SuperList([1, 2, 3, 4, 5])\n",
    "\n",
    "print(my_list)\n",
    "\n",
    "my_list.append(6)\n",
    "#my_list = SuperList.append(6)\n",
    "\n",
    "print(my_list)\n",
    "\n",
    "my_list.reverse()\n",
    "\n",
    "print(my_list)"
   ]
  },
  {
   "cell_type": "code",
   "execution_count": 36,
   "metadata": {},
   "outputs": [
    {
     "name": "stdout",
     "output_type": "stream",
     "text": [
      "5\n",
      "6\n"
     ]
    }
   ],
   "source": [
    "# The SuperList definition from the previous\n",
    "# screen is copied here for your convenience\n",
    "\n",
    "class SuperList():\n",
    "    \"\"\"\n",
    "    A Python list with some extras!\n",
    "    \"\"\"\n",
    "    def __init__(self, initial_state=[]):\n",
    "        self._data = initial_state\n",
    "        self._calc_length()\n",
    "      \n",
    "    def __repr__(self):\n",
    "        string_representation = str(self._data)\n",
    "        return string_representation\n",
    "  \n",
    "    def __eq__(self, other):\n",
    "        is_equal = self.__dict__ == other.__dict__\n",
    "        return is_equal\n",
    "    def _calc_length(self):\n",
    "        length = 0\n",
    "        for item in self._data:\n",
    "            length += 1\n",
    "    \n",
    "        self.length = length\n",
    "  \n",
    "    def append(self, new_item):\n",
    "        \"\"\"\n",
    "        Append `new_item` to the SuperList\n",
    "        \"\"\"\n",
    "        self._data = self._data + [new_item]\n",
    "        self._calc_length()\n",
    "  \n",
    "    def reverse(self):\n",
    "        \"\"\"\n",
    "        Reverse the order of items in the SuperList\n",
    "        \"\"\"\n",
    "        self._data = self._data[::-1]\n",
    "        self._calc_length()\n",
    "        \n",
    "\n",
    "\n",
    "fibonacci = SuperList([1, 1, 2, 3, 5])\n",
    "\n",
    "print(fibonacci.length)\n",
    "\n",
    "fibonacci.append(8)\n",
    "print(fibonacci.length)"
   ]
  },
  {
   "cell_type": "code",
   "execution_count": null,
   "metadata": {},
   "outputs": [],
   "source": []
  }
 ],
 "metadata": {
  "kernelspec": {
   "display_name": "Python 3",
   "language": "python",
   "name": "python3"
  },
  "language_info": {
   "codemirror_mode": {
    "name": "ipython",
    "version": 3
   },
   "file_extension": ".py",
   "mimetype": "text/x-python",
   "name": "python",
   "nbconvert_exporter": "python",
   "pygments_lexer": "ipython3",
   "version": "3.7.0"
  }
 },
 "nbformat": 4,
 "nbformat_minor": 2
}
