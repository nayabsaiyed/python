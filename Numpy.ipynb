{
 "cells": [
  {
   "cell_type": "code",
   "execution_count": 15,
   "metadata": {},
   "outputs": [],
   "source": [
    "import csv\n",
    "import numpy as np\n",
    "\n",
    "# import nyc_taxi.csv as a list of lists\n",
    "f = open(\"nyc_taxis.csv\", \"r\")\n",
    "taxi_list = list(csv.reader(f))\n",
    "\n",
    "# remove the header row\n",
    "taxi_list = taxi_list[1:]\n",
    "\n",
    "# convert all values to floats\n",
    "converted_taxi_list = []\n",
    "for row in taxi_list:\n",
    "    converted_row = []\n",
    "    for item in row:\n",
    "        converted_row.append(float(item))\n",
    "    converted_taxi_list.append(converted_row)\n",
    "\n",
    "# start writing your code below this comment\n",
    "\n",
    "taxi = np.array(converted_taxi_list)\n",
    "\n",
    "\n"
   ]
  },
  {
   "cell_type": "code",
   "execution_count": null,
   "metadata": {},
   "outputs": [],
   "source": []
  },
  {
   "cell_type": "code",
   "execution_count": 4,
   "metadata": {},
   "outputs": [
    {
     "name": "stdout",
     "output_type": "stream",
     "text": [
      "[[2.0160e+03 1.0000e+00 1.0000e+00 5.0000e+00 0.0000e+00 2.0000e+00\n",
      "  4.0000e+00 2.1000e+01 2.0370e+03 5.2000e+01 8.0000e-01 5.5400e+00\n",
      "  1.1650e+01 6.9990e+01 1.0000e+00]\n",
      " [2.0160e+03 1.0000e+00 1.0000e+00 5.0000e+00 0.0000e+00 2.0000e+00\n",
      "  1.0000e+00 1.6290e+01 1.5200e+03 4.5000e+01 1.3000e+00 0.0000e+00\n",
      "  8.0000e+00 5.4300e+01 1.0000e+00]\n",
      " [2.0160e+03 1.0000e+00 1.0000e+00 5.0000e+00 0.0000e+00 2.0000e+00\n",
      "  6.0000e+00 1.2700e+01 1.4620e+03 3.6500e+01 1.3000e+00 0.0000e+00\n",
      "  0.0000e+00 3.7800e+01 2.0000e+00]\n",
      " [2.0160e+03 1.0000e+00 1.0000e+00 5.0000e+00 0.0000e+00 2.0000e+00\n",
      "  6.0000e+00 8.7000e+00 1.2100e+03 2.6000e+01 1.3000e+00 0.0000e+00\n",
      "  5.4600e+00 3.2760e+01 1.0000e+00]\n",
      " [2.0160e+03 1.0000e+00 1.0000e+00 5.0000e+00 0.0000e+00 2.0000e+00\n",
      "  6.0000e+00 5.5600e+00 7.5900e+02 1.7500e+01 1.3000e+00 0.0000e+00\n",
      "  0.0000e+00 1.8800e+01 2.0000e+00]\n",
      " [2.0160e+03 1.0000e+00 1.0000e+00 5.0000e+00 0.0000e+00 4.0000e+00\n",
      "  2.0000e+00 2.1450e+01 2.0040e+03 5.2000e+01 8.0000e-01 0.0000e+00\n",
      "  5.2800e+01 1.0560e+02 1.0000e+00]\n",
      " [2.0160e+03 1.0000e+00 1.0000e+00 5.0000e+00 0.0000e+00 2.0000e+00\n",
      "  6.0000e+00 8.4500e+00 9.2700e+02 2.4500e+01 1.3000e+00 0.0000e+00\n",
      "  6.4500e+00 3.2250e+01 1.0000e+00]\n",
      " [2.0160e+03 1.0000e+00 1.0000e+00 5.0000e+00 0.0000e+00 2.0000e+00\n",
      "  6.0000e+00 7.3000e+00 7.3100e+02 2.1500e+01 1.3000e+00 0.0000e+00\n",
      "  0.0000e+00 2.2800e+01 2.0000e+00]\n",
      " [2.0160e+03 1.0000e+00 1.0000e+00 5.0000e+00 0.0000e+00 2.0000e+00\n",
      "  5.0000e+00 3.6300e+01 2.5620e+03 1.0950e+02 8.0000e-01 1.1080e+01\n",
      "  1.0000e+01 1.3138e+02 1.0000e+00]\n",
      " [2.0160e+03 1.0000e+00 1.0000e+00 5.0000e+00 0.0000e+00 6.0000e+00\n",
      "  2.0000e+00 1.2460e+01 1.3510e+03 3.6000e+01 1.3000e+00 0.0000e+00\n",
      "  0.0000e+00 3.7300e+01 2.0000e+00]]\n",
      "(5, 15)\n"
     ]
    }
   ],
   "source": [
    "taxi_five = taxi[:5]\n",
    "taxi_ten = taxi[:10]\n",
    "print(taxi_ten)\n",
    "print(taxi_five.shape)"
   ]
  },
  {
   "cell_type": "code",
   "execution_count": 7,
   "metadata": {},
   "outputs": [
    {
     "name": "stdout",
     "output_type": "stream",
     "text": [
      "4.0\n",
      "[[2.016e+03 1.000e+00 2.000e+00 ... 0.000e+00 2.630e+01 2.000e+00]\n",
      " [2.016e+03 1.000e+00 2.000e+00 ... 3.000e+00 3.030e+01 1.000e+00]\n",
      " [2.016e+03 1.000e+00 2.000e+00 ... 6.670e+00 4.001e+01 1.000e+00]\n",
      " ...\n",
      " [2.016e+03 1.000e+00 2.000e+00 ... 4.960e+00 2.976e+01 1.000e+00]\n",
      " [2.016e+03 1.000e+00 2.000e+00 ... 0.000e+00 3.284e+01 2.000e+00]\n",
      " [2.016e+03 1.000e+00 2.000e+00 ... 7.050e+00 4.239e+01 1.000e+00]]\n"
     ]
    }
   ],
   "source": [
    "lenthg = len(taxi)\n",
    "row_0 = taxi[0]\n",
    "rows_391_to_500 = taxi[391:501, :]\n",
    "row_21_column_5 = taxi[21,5]\n",
    "\n",
    "print(row_21_column_5)\n",
    "print(rows_391_to_500)"
   ]
  },
  {
   "cell_type": "code",
   "execution_count": 8,
   "metadata": {},
   "outputs": [],
   "source": [
    "\n",
    "columns_1_4_7 = taxi[:,[1,4,7]]\n",
    "\n",
    "row_99_columns_5_to_8 = taxi[99,5:9]\n",
    "\n",
    "rows_100_to_200_column_14 = taxi[100:201,14]"
   ]
  },
  {
   "cell_type": "code",
   "execution_count": 9,
   "metadata": {},
   "outputs": [],
   "source": [
    "trip_distance_miles = taxi[:,7]\n",
    "trip_length_seconds = taxi[:,8]\n",
    "\n",
    "trip_length_hours = trip_length_seconds / 3600 # 3600 seconds is one hour\n",
    "\n",
    "trip_mph = trip_distance_miles / trip_length_hours"
   ]
  },
  {
   "cell_type": "code",
   "execution_count": 10,
   "metadata": {},
   "outputs": [],
   "source": [
    "mph_min = trip_mph.min()\n",
    "mph_max = trip_mph.max()\n",
    "mph_mean = trip_mph.mean()\n"
   ]
  },
  {
   "cell_type": "code",
   "execution_count": 11,
   "metadata": {},
   "outputs": [],
   "source": [
    "taxi_column_means = taxi.mean(axis=0)"
   ]
  },
  {
   "cell_type": "code",
   "execution_count": 12,
   "metadata": {
    "scrolled": true
   },
   "outputs": [
    {
     "ename": "NameError",
     "evalue": "name 'ones' is not defined",
     "output_type": "error",
     "traceback": [
      "\u001b[0;31m---------------------------------------------------------------------------\u001b[0m",
      "\u001b[0;31mNameError\u001b[0m                                 Traceback (most recent call last)",
      "\u001b[0;32m<ipython-input-12-2dfac42a0b98>\u001b[0m in \u001b[0;36m<module>\u001b[0;34m()\u001b[0m\n\u001b[1;32m      3\u001b[0m \u001b[0;31m# main lesson example\u001b[0m\u001b[0;34m\u001b[0m\u001b[0;34m\u001b[0m\u001b[0m\n\u001b[1;32m      4\u001b[0m \u001b[0;34m\u001b[0m\u001b[0m\n\u001b[0;32m----> 5\u001b[0;31m \u001b[0mprint\u001b[0m\u001b[0;34m(\u001b[0m\u001b[0mones\u001b[0m\u001b[0;34m)\u001b[0m\u001b[0;34m\u001b[0m\u001b[0m\n\u001b[0m\u001b[1;32m      6\u001b[0m \u001b[0mprint\u001b[0m\u001b[0;34m(\u001b[0m\u001b[0mzeros\u001b[0m\u001b[0;34m)\u001b[0m\u001b[0;34m\u001b[0m\u001b[0m\n\u001b[1;32m      7\u001b[0m \u001b[0mprint\u001b[0m\u001b[0;34m(\u001b[0m\u001b[0;34m)\u001b[0m \u001b[0;31m# creates a space in our output\u001b[0m\u001b[0;34m\u001b[0m\u001b[0m\n",
      "\u001b[0;31mNameError\u001b[0m: name 'ones' is not defined"
     ]
    }
   ],
   "source": [
    "# These `ones` and `zeros` variables\n",
    "# are different from the ones in the\n",
    "# main lesson example\n",
    "\n",
    "print(ones)\n",
    "print(zeros)\n",
    "print() # creates a space in our output\n",
    "\n",
    "print(ones.shape)\n",
    "print(zeros.shape)\n",
    "print()\n",
    "\n",
    "zeros_2d = np.expand_dims(zeros,axis=1)\n",
    "\n",
    "print(zeros_2d)\n",
    "print(zeros_2d.shape)\n",
    "print()\n",
    "print('\\n')\n",
    "combined = np.concatenate([ones,zeros_2d],axis=1)\n",
    "print(combined)\n",
    "print()\n",
    "\n",
    "# the `trip_mph` variable is still available from the\n",
    "# previous screen\n",
    "trip_mph_2d = np.expand_dims(trip_mph,axis=1)\n",
    "\n",
    "taxi = np.concatenate([taxi,trip_mph_2d],axis=1)"
   ]
  },
  {
   "cell_type": "code",
   "execution_count": 19,
   "metadata": {},
   "outputs": [
    {
     "name": "stdout",
     "output_type": "stream",
     "text": [
      "(89560, 15)\n"
     ]
    }
   ],
   "source": [
    "print(np.shape(taxi))"
   ]
  },
  {
   "cell_type": "code",
   "execution_count": 21,
   "metadata": {},
   "outputs": [
    {
     "ename": "IndexError",
     "evalue": "index 15 is out of bounds for axis 1 with size 15",
     "output_type": "error",
     "traceback": [
      "\u001b[0;31m---------------------------------------------------------------------------\u001b[0m",
      "\u001b[0;31mIndexError\u001b[0m                                Traceback (most recent call last)",
      "\u001b[0;32m<ipython-input-21-c19fe13ec7c4>\u001b[0m in \u001b[0;36m<module>\u001b[0;34m()\u001b[0m\n\u001b[1;32m      1\u001b[0m \u001b[0;34m\u001b[0m\u001b[0m\n\u001b[0;32m----> 2\u001b[0;31m \u001b[0mlast_column\u001b[0m \u001b[0;34m=\u001b[0m \u001b[0mtaxi\u001b[0m\u001b[0;34m[\u001b[0m\u001b[0;34m:\u001b[0m\u001b[0;34m,\u001b[0m\u001b[0;36m15\u001b[0m\u001b[0;34m]\u001b[0m\u001b[0;34m\u001b[0m\u001b[0m\n\u001b[0m\u001b[1;32m      3\u001b[0m \u001b[0;34m\u001b[0m\u001b[0m\n\u001b[1;32m      4\u001b[0m \u001b[0mtaxi_order\u001b[0m \u001b[0;34m=\u001b[0m \u001b[0mnp\u001b[0m\u001b[0;34m.\u001b[0m\u001b[0margsort\u001b[0m\u001b[0;34m(\u001b[0m\u001b[0mlast_column\u001b[0m\u001b[0;34m)\u001b[0m\u001b[0;34m\u001b[0m\u001b[0m\n\u001b[1;32m      5\u001b[0m \u001b[0;34m\u001b[0m\u001b[0m\n",
      "\u001b[0;31mIndexError\u001b[0m: index 15 is out of bounds for axis 1 with size 15"
     ]
    }
   ],
   "source": [
    "\n",
    "last_column = taxi[:,15]\n",
    "\n",
    "taxi_order = np.argsort(last_column)\n",
    "\n",
    "taxi_sorted = taxi[taxi_order]\n",
    "\n",
    "print(taxi_sorted)\n"
   ]
  },
  {
   "cell_type": "code",
   "execution_count": 22,
   "metadata": {},
   "outputs": [],
   "source": [
    "import numpy as np\n",
    "taxi = np.genfromtxt('nyc_taxis.csv',delimiter=',',skip_header=1)"
   ]
  },
  {
   "cell_type": "code",
   "execution_count": 26,
   "metadata": {},
   "outputs": [],
   "source": [
    "pickup_month = taxi[:,1]\n",
    "\n",
    "january_bool = pickup_month == 1\n",
    "january = pickup_month[january_bool]\n",
    "january_rides = january.shape[0]\n",
    "\n",
    "february_bool = pickup_month == 2\n",
    "\n",
    "february = pickup_month[february_bool]\n",
    "\n",
    "february_rides = february.shape\n",
    "\n",
    "march_bool = pickup_month == 3\n",
    "\n",
    "march = pickup_month[march_bool]\n",
    "\n",
    "march_rides = march.shape\n",
    "\n"
   ]
  },
  {
   "cell_type": "code",
   "execution_count": 27,
   "metadata": {},
   "outputs": [
    {
     "name": "stdout",
     "output_type": "stream",
     "text": [
      "[[2.016e+03 1.000e+00 1.000e+00 ... 1.165e+01 6.999e+01 1.000e+00]\n",
      " [2.016e+03 1.000e+00 1.000e+00 ... 8.000e+00 5.430e+01 1.000e+00]\n",
      " [2.016e+03 1.000e+00 1.000e+00 ... 0.000e+00 3.780e+01 2.000e+00]\n",
      " ...\n",
      " [2.016e+03 6.000e+00 3.000e+01 ... 5.000e+00 6.334e+01 1.000e+00]\n",
      " [2.016e+03 6.000e+00 3.000e+01 ... 8.950e+00 4.475e+01 1.000e+00]\n",
      " [2.016e+03 6.000e+00 3.000e+01 ... 0.000e+00 5.484e+01 2.000e+00]]\n"
     ]
    }
   ],
   "source": [
    "print(taxi)"
   ]
  },
  {
   "cell_type": "code",
   "execution_count": 28,
   "metadata": {},
   "outputs": [],
   "source": [
    "tip_amount = taxi[:,12]\n",
    "\n",
    "tip_bool = tip_amount > 50\n",
    "\n",
    "top_tips = taxi[tip_bool,5:14]"
   ]
  },
  {
   "cell_type": "code",
   "execution_count": 31,
   "metadata": {},
   "outputs": [
    {
     "name": "stdout",
     "output_type": "stream",
     "text": [
      "[12.66742608 12.66742608]\n",
      "[9.88 8.6 ]\n"
     ]
    }
   ],
   "source": [
    "# this creates a copy of our taxi ndarray\n",
    "import numpy as np\n",
    "taxi_modified = taxi.copy()\n",
    "\n",
    "\n",
    "taxi_modified[28214,5] = 1\n",
    "\n",
    "taxi_modified[:,0] = 16\n",
    "\n",
    "taxi_modified[1800:1802,7] = np.mean(taxi_modified[:,7], axis=0)\n",
    "\n",
    "print(taxi_modified[1800:1802,7])\n",
    "print(taxi[1800:1802,7])"
   ]
  },
  {
   "cell_type": "code",
   "execution_count": 35,
   "metadata": {},
   "outputs": [
    {
     "name": "stdout",
     "output_type": "stream",
     "text": [
      "[[ 1  2  3]\n",
      " [ 4 99  6]\n",
      " [ 7 99  9]]\n"
     ]
    }
   ],
   "source": [
    "c = np.array([[1, 2, 3],\n",
    "              [4, 5, 6],\n",
    "              [7, 8, 9]])\n",
    "\n",
    "c[c[:,1] > 2,1] = 99\n",
    "\n",
    "print(c)"
   ]
  },
  {
   "cell_type": "code",
   "execution_count": 36,
   "metadata": {},
   "outputs": [
    {
     "name": "stdout",
     "output_type": "stream",
     "text": [
      "[[2.016e+03 1.000e+00 1.000e+00 ... 6.999e+01 1.000e+00 0.000e+00]\n",
      " [2.016e+03 1.000e+00 1.000e+00 ... 5.430e+01 1.000e+00 0.000e+00]\n",
      " [2.016e+03 1.000e+00 1.000e+00 ... 3.780e+01 2.000e+00 0.000e+00]\n",
      " ...\n",
      " [2.016e+03 6.000e+00 3.000e+01 ... 6.334e+01 1.000e+00 0.000e+00]\n",
      " [2.016e+03 6.000e+00 3.000e+01 ... 4.475e+01 1.000e+00 0.000e+00]\n",
      " [2.016e+03 6.000e+00 3.000e+01 ... 5.484e+01 2.000e+00 0.000e+00]]\n"
     ]
    }
   ],
   "source": [
    "# this creates a copy of our taxi ndarray\n",
    "taxi_modified = taxi.copy()\n",
    "\n",
    "# create a new column filled with `0`.\n",
    "zeros = np.zeros([taxi_modified.shape[0], 1])\n",
    "taxi_modified = np.concatenate([taxi, zeros], axis=1)\n",
    "print(taxi_modified)\n",
    "\n",
    "#for rows in taxi_modified[:,5]:\n",
    "#   if rows == 2:\n",
    "\n",
    "taxi_modified[taxi_modified[:,5] == 2, 15] = 1\n",
    "taxi_modified[taxi_modified[:,5] == 3, 15] = 1\n",
    "taxi_modified[taxi_modified[:,5] == 5, 15] = 1\n"
   ]
  },
  {
   "cell_type": "code",
   "execution_count": 39,
   "metadata": {},
   "outputs": [
    {
     "name": "stdout",
     "output_type": "stream",
     "text": [
      "63\n"
     ]
    },
    {
     "name": "stderr",
     "output_type": "stream",
     "text": [
      "/anaconda3/lib/python3.7/site-packages/ipykernel_launcher.py:1: FutureWarning: Using a non-tuple sequence for multidimensional indexing is deprecated; use `arr[tuple(seq)]` instead of `arr[seq]`. In the future this will be interpreted as an array index, `arr[np.array(seq)]`, which will result either in an error or a different result.\n",
      "  \"\"\"Entry point for launching an IPython kernel.\n",
      "/anaconda3/lib/python3.7/site-packages/ipykernel_launcher.py:4: FutureWarning: Using a non-tuple sequence for multidimensional indexing is deprecated; use `arr[tuple(seq)]` instead of `arr[seq]`. In the future this will be interpreted as an array index, `arr[np.array(seq)]`, which will result either in an error or a different result.\n",
      "  after removing the cwd from sys.path.\n",
      "/anaconda3/lib/python3.7/site-packages/ipykernel_launcher.py:8: FutureWarning: Using a non-tuple sequence for multidimensional indexing is deprecated; use `arr[tuple(seq)]` instead of `arr[seq]`. In the future this will be interpreted as an array index, `arr[np.array(seq)]`, which will result either in an error or a different result.\n",
      "  \n"
     ]
    }
   ],
   "source": [
    "jfk = taxi[[taxi[:,6] == 2]]\n",
    "jfk_count = jfk.shape[0]\n",
    "\n",
    "laguardia = taxi[[taxi[:,6] == 3]]\n",
    "\n",
    "laguardia_count = laguardia.shape[0]\n",
    "\n",
    "newark  = taxi[[taxi[:,6] == 5]]\n",
    "newark_count = newark.shape[0]\n",
    "\n",
    "print(newark_count)"
   ]
  },
  {
   "cell_type": "code",
   "execution_count": 40,
   "metadata": {},
   "outputs": [],
   "source": [
    "trip_mph = taxi[:,7] / (taxi[:,8] / 3600)\n",
    "\n",
    "#print(np.shape(trip_mph))\n",
    "#print(trip_mph)\n",
    "#taxi_1 = np.expand_dims(trip_mph, axis=1)\n",
    "\n",
    "#taxi = np.concatenate([taxi,taxi_1],axis=1)\n",
    "\n",
    "#print(taxi)\n",
    "cleaned_taxi = taxi[trip_mph < 100]\n",
    "\n",
    "mean_distance = np.mean(cleaned_taxi[:,7])\n",
    "\n",
    "mean_length = np.mean(cleaned_taxi[:,8])\n",
    "\n",
    "mean_total_amount = np.mean(cleaned_taxi[:,13])\n",
    "\n",
    "#trip_clean = (trip_mph < 100)\n",
    "\n",
    "#mean_mph = np.mean(trip_mph < 100)\n",
    "mean_mph = trip_mph[trip_mph < 100].mean()"
   ]
  },
  {
   "cell_type": "code",
   "execution_count": null,
   "metadata": {},
   "outputs": [],
   "source": []
  }
 ],
 "metadata": {
  "kernelspec": {
   "display_name": "Python 3",
   "language": "python",
   "name": "python3"
  },
  "language_info": {
   "codemirror_mode": {
    "name": "ipython",
    "version": 3
   },
   "file_extension": ".py",
   "mimetype": "text/x-python",
   "name": "python",
   "nbconvert_exporter": "python",
   "pygments_lexer": "ipython3",
   "version": "3.7.0"
  }
 },
 "nbformat": 4,
 "nbformat_minor": 2
}
