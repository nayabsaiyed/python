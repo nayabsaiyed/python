{
 "cells": [
  {
   "cell_type": "code",
   "execution_count": 1,
   "metadata": {},
   "outputs": [],
   "source": [
    "import pandas as pd\n",
    "f500 = pd.read_csv(\"f500.csv\", index_col=0)\n",
    "f500.index.name = None\n",
    "\n",
    "f500_type = type(f500)\n",
    "\n",
    "f500_shape = f500.shape"
   ]
  },
  {
   "cell_type": "code",
   "execution_count": 2,
   "metadata": {},
   "outputs": [
    {
     "name": "stdout",
     "output_type": "stream",
     "text": [
      "<class 'pandas.core.frame.DataFrame'>\n",
      "Index: 500 entries, Walmart to AutoNation\n",
      "Data columns (total 16 columns):\n",
      "rank                        500 non-null int64\n",
      "revenues                    500 non-null int64\n",
      "revenue_change              498 non-null float64\n",
      "profits                     499 non-null float64\n",
      "assets                      500 non-null int64\n",
      "profit_change               436 non-null float64\n",
      "ceo                         500 non-null object\n",
      "industry                    500 non-null object\n",
      "sector                      500 non-null object\n",
      "previous_rank               500 non-null int64\n",
      "country                     500 non-null object\n",
      "hq_location                 500 non-null object\n",
      "website                     500 non-null object\n",
      "years_on_global_500_list    500 non-null int64\n",
      "employees                   500 non-null int64\n",
      "total_stockholder_equity    500 non-null int64\n",
      "dtypes: float64(3), int64(7), object(6)\n",
      "memory usage: 66.4+ KB\n"
     ]
    }
   ],
   "source": [
    "f500_head = f500.head(6)\n",
    "\n",
    "f500_tail = f500.tail(8)\n",
    "\n",
    "f500.info()"
   ]
  },
  {
   "cell_type": "code",
   "execution_count": 3,
   "metadata": {},
   "outputs": [],
   "source": [
    "industries = f500.loc[:,\"industry\"]\n",
    "\n",
    "previous = f500.loc[:,[\"rank\",\"previous_rank\",\"years_on_global_500_list\"]]\n",
    "\n",
    "financial_data = f500.loc[:,\"revenues\":\"profit_change\"]"
   ]
  },
  {
   "cell_type": "code",
   "execution_count": 4,
   "metadata": {},
   "outputs": [],
   "source": [
    "countries = f500[\"country\"]\n",
    "revenues_years = f500[[\"revenues\",\"years_on_global_500_list\"]]\n",
    "\n",
    "ceo_to_sector = f500.loc[:,\"ceo\":\"sector\"]"
   ]
  },
  {
   "cell_type": "code",
   "execution_count": 5,
   "metadata": {},
   "outputs": [],
   "source": [
    "ceos = f500[\"ceo\"]\n",
    "walmart = ceos[\"Walmart\"]\n",
    "\n",
    "apple_to_samsung = ceos[\"Apple\":\"Samsung Electronics\"]\n",
    "\n",
    "oil_companies = ceos[[\"Exxon Mobil\",\"BP\",\"Chevron\"]]\n"
   ]
  },
  {
   "cell_type": "code",
   "execution_count": 6,
   "metadata": {},
   "outputs": [],
   "source": [
    "drink_companies = f500.loc[[\"Anheuser-Busch InBev\",\"Coca-Cola\",\"Heineken Holding\"]]\n",
    "\n",
    "big_movers = f500.loc[[\"Aviva\",\"HP\",\"JD.com\",\"BHP Billiton\"], [\"rank\",\"previous_rank\"]]\n",
    "middle_companies = f500.loc[\"Tata Motors\":\"Nationwide\",\"rank\":\"country\"]"
   ]
  },
  {
   "cell_type": "code",
   "execution_count": 7,
   "metadata": {},
   "outputs": [],
   "source": [
    "profits_desc = f500[\"profits\"].describe()\n",
    "revenue_and_employees_desc = f500[[\"revenues\",\"employees\"]].describe()"
   ]
  },
  {
   "cell_type": "code",
   "execution_count": 8,
   "metadata": {},
   "outputs": [],
   "source": [
    "top5_countries = f500[\"country\"].value_counts().head()\n",
    "\n",
    "top5_previous_rank = f500[\"previous_rank\"].value_counts().head()\n",
    "\n",
    "max_f500 = f500.max(numeric_only=True)"
   ]
  },
  {
   "cell_type": "code",
   "execution_count": 9,
   "metadata": {},
   "outputs": [],
   "source": [
    "f500[\"revenues_b\"] = f500.loc[:,\"revenues\"] / 1000\n",
    "f500.loc[\"Dow Chemical\",\"ceo\"] = \"Jim Fitterling\""
   ]
  },
  {
   "cell_type": "code",
   "execution_count": 10,
   "metadata": {},
   "outputs": [],
   "source": [
    "kr_bool = f500[\"country\"] == \"South Korea\"\n",
    "\n",
    "top_5_kr = f500[kr_bool].head()"
   ]
  },
  {
   "cell_type": "code",
   "execution_count": 11,
   "metadata": {},
   "outputs": [],
   "source": [
    "import numpy as np\n",
    "prev_rank_before = f500[\"previous_rank\"].value_counts(dropna=False).head()\n",
    "\n",
    " \n",
    "\n",
    "f500.loc[f500[\"previous_rank\"] == 0, \"previous_rank\"] = np.nan\n",
    "\n",
    "prev_rank_after = f500[\"previous_rank\"].value_counts(dropna=False).head()\n"
   ]
  },
  {
   "cell_type": "code",
   "execution_count": 12,
   "metadata": {},
   "outputs": [],
   "source": [
    "top_3_countries = f500[\"country\"].value_counts().head(3)\n",
    "\n",
    "coun_usa =  f500[\"country\"] == \"USA\" \n",
    "\n",
    "cities_usa = f500.loc[coun_usa, \"hq_location\"].value_counts().head()\n",
    "\n",
    "coun_china = f500[\"country\"] == \"China\"\n",
    "\n",
    "\n",
    "sector_china = f500.loc[coun_china, \"sector\"].value_counts().head(3)\n",
    "\n",
    "\n",
    "coun_japan = f500[\"country\"] == \"Japan\"\n",
    "\n",
    "mean_employees_japan = f500.loc[coun_japan, \"employees\"].mean()"
   ]
  },
  {
   "cell_type": "code",
   "execution_count": 13,
   "metadata": {},
   "outputs": [],
   "source": [
    "import pandas as pd\n",
    "import numpy as np\n",
    "\n",
    "f500 = pd.read_csv(\"f500.csv\", index_col=0)\n",
    "f500.index.name = None\n",
    "f500.loc[f500[\"previous_rank\"] == 0, \"previous_rank\"] = np.nan\n",
    "\n",
    "fifth_row = f500.iloc[4]\n",
    "\n",
    "first_three_rows = f500.iloc[0:3]\n",
    "\n",
    "first_seventh_row_slice = f500.iloc[[0,6],:5]\n"
   ]
  },
  {
   "cell_type": "markdown",
   "metadata": {},
   "source": [
    "# Pandas - using conventiol method of areading file without index_col to get the index column as numbers\n",
    "\n"
   ]
  },
  {
   "cell_type": "code",
   "execution_count": 14,
   "metadata": {},
   "outputs": [],
   "source": [
    "import pandas\n",
    "f500 = pandas.read_csv(\"f500.csv\")\n",
    "f500.loc[f500[\"previous_rank\"] == 0, \"previous_rank\"] = np.nan\n"
   ]
  },
  {
   "cell_type": "code",
   "execution_count": 21,
   "metadata": {
    "scrolled": false
   },
   "outputs": [],
   "source": [
    "previously_ranked = f500[f500[\"previous_rank\"].notnull()]\n",
    "\n",
    "#print(previously_ranked)\n",
    "rank_change = f500[\"previous_rank\"] - previously_ranked[\"rank\"]"
   ]
  },
  {
   "cell_type": "code",
   "execution_count": 22,
   "metadata": {},
   "outputs": [
    {
     "name": "stdout",
     "output_type": "stream",
     "text": [
      "0        0.0\n",
      "1        0.0\n",
      "2        1.0\n",
      "3       -1.0\n",
      "4        3.0\n",
      "5        1.0\n",
      "6       -2.0\n",
      "7        3.0\n",
      "8        0.0\n",
      "9       -4.0\n",
      "10       1.0\n",
      "11      -2.0\n",
      "12       4.0\n",
      "13       4.0\n",
      "14      -2.0\n",
      "15      -2.0\n",
      "16      -1.0\n",
      "17       2.0\n",
      "18       4.0\n",
      "19      -1.0\n",
      "20       0.0\n",
      "21      -7.0\n",
      "22       5.0\n",
      "23       3.0\n",
      "24       8.0\n",
      "25      18.0\n",
      "26      -2.0\n",
      "27      -6.0\n",
      "28       7.0\n",
      "29      -6.0\n",
      "       ...  \n",
      "470     16.0\n",
      "471    -27.0\n",
      "472      NaN\n",
      "473      9.0\n",
      "474    -14.0\n",
      "475    -92.0\n",
      "476     17.0\n",
      "477      NaN\n",
      "478    -50.0\n",
      "479     -8.0\n",
      "480      9.0\n",
      "481      6.0\n",
      "482      NaN\n",
      "483    -18.0\n",
      "484      NaN\n",
      "485    -55.0\n",
      "486    -13.0\n",
      "487      NaN\n",
      "488    -64.0\n",
      "489   -107.0\n",
      "490    -20.0\n",
      "491      NaN\n",
      "492    -89.0\n",
      "493      NaN\n",
      "494      NaN\n",
      "495      NaN\n",
      "496    -70.0\n",
      "497    -61.0\n",
      "498    -32.0\n",
      "499      NaN\n",
      "Length: 500, dtype: float64\n"
     ]
    }
   ],
   "source": [
    "print(rank_change)"
   ]
  },
  {
   "cell_type": "code",
   "execution_count": 23,
   "metadata": {},
   "outputs": [],
   "source": [
    "big_rev_neg_profit = f500.loc[(f500[\"revenues\"] > 100000) & (f500[\"profits\"] < 0)]\n",
    "\n",
    "tech_outside_usa = f500.loc[(f500[\"country\"] != \"USA\") & (f500[\"sector\"] == \"Technology\")].head()"
   ]
  },
  {
   "cell_type": "code",
   "execution_count": 96,
   "metadata": {
    "scrolled": false
   },
   "outputs": [],
   "source": [
    "top_employer_by_country = {}\n",
    "\n",
    "countries = f500[\"country\"].unique()\n",
    "\n",
    "#print(countries)\n",
    "for ic in countries:\n",
    "    selected_rows = f500[f500[\"country\"] == ic]\n",
    "    sorted_rows = selected_rows.sort_values(by=\"employees\",ascending=False)\n",
    "    top_employer = sorted_rows.iloc[0]\n",
    "    employer_name = top_employer[\"company\"]\n",
    "    top_employer_by_country[ic] = employer_name"
   ]
  },
  {
   "cell_type": "code",
   "execution_count": 37,
   "metadata": {},
   "outputs": [
    {
     "name": "stdout",
     "output_type": "stream",
     "text": [
      "{'U': Series([], Name: company, dtype: object), 'S': Series([], Name: company, dtype: object), 'A': Series([], Name: company, dtype: object)}\n"
     ]
    }
   ],
   "source": [
    "print(top_employer_by_country)"
   ]
  },
  {
   "cell_type": "code",
   "execution_count": 70,
   "metadata": {},
   "outputs": [
    {
     "name": "stdout",
     "output_type": "stream",
     "text": [
      "Volkswagen\n"
     ]
    }
   ],
   "source": [
    "print(f500.iloc[5,0])"
   ]
  },
  {
   "cell_type": "code",
   "execution_count": 75,
   "metadata": {},
   "outputs": [
    {
     "name": "stdout",
     "output_type": "stream",
     "text": [
      "0                     Walmart\n",
      "1                  State Grid\n",
      "2               Sinopec Group\n",
      "3    China National Petroleum\n",
      "4                Toyota Motor\n",
      "5                  Volkswagen\n",
      "Name: company, dtype: object\n"
     ]
    }
   ],
   "source": [
    "print(f500.loc[:5,\"company\"])"
   ]
  },
  {
   "cell_type": "code",
   "execution_count": 83,
   "metadata": {},
   "outputs": [
    {
     "name": "stdout",
     "output_type": "stream",
     "text": [
      "                    company  rank  revenues  revenue_change  profits\n",
      "2             Sinopec Group     3    267518            -9.1   1257.9\n",
      "3  China National Petroleum     4    262573           -12.3   1867.5\n",
      "5                Volkswagen     6    240264             1.5   5937.3\n",
      "1                State Grid     2    315199            -4.4   9571.3\n",
      "0                   Walmart     1    485873             0.8  13643.0\n",
      "4              Toyota Motor     5    254694             7.7  16899.3\n"
     ]
    }
   ],
   "source": [
    "#loc_sort = f500.loc[:5,\"company\":\"profits\"]\n",
    "print(f500.loc[:5,\"company\":\"profits\"].sort_values(by=\"profits\"))\n",
    "\n",
    "#print(loc_sort.sort_values(by=\"profits\"))"
   ]
  },
  {
   "cell_type": "code",
   "execution_count": 85,
   "metadata": {},
   "outputs": [],
   "source": [
    "roa = f500.loc[:,\"profits\"] / f500.loc[:,\"assets\"]"
   ]
  },
  {
   "cell_type": "code",
   "execution_count": 87,
   "metadata": {},
   "outputs": [],
   "source": [
    "#print(roa)"
   ]
  },
  {
   "cell_type": "code",
   "execution_count": 89,
   "metadata": {},
   "outputs": [],
   "source": [
    "f500[\"roa\"] = roa"
   ]
  },
  {
   "cell_type": "code",
   "execution_count": 91,
   "metadata": {},
   "outputs": [],
   "source": [
    "#print(f500)"
   ]
  },
  {
   "cell_type": "code",
   "execution_count": 98,
   "metadata": {},
   "outputs": [
    {
     "name": "stdout",
     "output_type": "stream",
     "text": [
      "{'Retailing': 'H & M Hennes & Mauritz', 'Energy': 'National Grid', 'Motor Vehicles & Parts': 'Subaru', 'Financials': 'Berkshire Hathaway', 'Technology': 'Accenture', 'Wholesalers': 'McKesson', 'Health Care': 'Gilead Sciences', 'Telecommunications': 'KDDI', 'Engineering & Construction': 'Pacific Construction Group', 'Industrials': '3M', 'Food & Drug Stores': 'Publix Super Markets', 'Aerospace & Defense': 'Lockheed Martin', 'Food, Beverages & Tobacco': 'Philip Morris International', 'Household Products': 'Unilever', 'Transportation': 'Delta Air Lines', 'Materials': 'CRH', 'Chemicals': 'LyondellBasell Industries', 'Media': 'Disney', 'Apparel': 'Nike', 'Hotels, Restaurants & Leisure': 'McDonald’s', 'Business Services': 'Adecco Group'}\n"
     ]
    }
   ],
   "source": [
    "\n",
    "top_roa_by_sector = {}\n",
    "\n",
    "sector_companies = f500[\"sector\"].unique()\n",
    "\n",
    "for i in sector_companies:\n",
    "    \n",
    "    selected_rows = f500[f500[\"sector\"] == i]\n",
    "    sorted_rows = selected_rows.sort_values(by=\"roa\", ascending=False)\n",
    "    #print(sorted_rows)\n",
    "    top_roa = sorted_rows.iloc[0]\n",
    "    cc_name = top_roa[\"company\"]\n",
    "    top_roa_by_sector[i] = cc_name\n",
    "print(top_roa_by_sector)"
   ]
  },
  {
   "cell_type": "code",
   "execution_count": 99,
   "metadata": {},
   "outputs": [
    {
     "ename": "NameError",
     "evalue": "name 'laptops' is not defined",
     "output_type": "error",
     "traceback": [
      "\u001b[0;31m---------------------------------------------------------------------------\u001b[0m",
      "\u001b[0;31mNameError\u001b[0m                                 Traceback (most recent call last)",
      "\u001b[0;32m<ipython-input-99-52892a63aff0>\u001b[0m in \u001b[0;36m<module>\u001b[0;34m()\u001b[0m\n\u001b[1;32m     12\u001b[0m \u001b[0mnew_columns\u001b[0m \u001b[0;34m=\u001b[0m \u001b[0;34m[\u001b[0m\u001b[0;34m]\u001b[0m\u001b[0;34m\u001b[0m\u001b[0m\n\u001b[1;32m     13\u001b[0m \u001b[0;34m\u001b[0m\u001b[0m\n\u001b[0;32m---> 14\u001b[0;31m \u001b[0;32mfor\u001b[0m \u001b[0mcol1\u001b[0m \u001b[0;32min\u001b[0m \u001b[0mlaptops\u001b[0m\u001b[0;34m.\u001b[0m\u001b[0mcolumns\u001b[0m\u001b[0;34m:\u001b[0m\u001b[0;34m\u001b[0m\u001b[0m\n\u001b[0m\u001b[1;32m     15\u001b[0m     \u001b[0mnew_c\u001b[0m \u001b[0;34m=\u001b[0m \u001b[0mclean_col\u001b[0m\u001b[0;34m(\u001b[0m\u001b[0mcol1\u001b[0m\u001b[0;34m)\u001b[0m\u001b[0;34m\u001b[0m\u001b[0m\n\u001b[1;32m     16\u001b[0m     \u001b[0mnew_columns\u001b[0m\u001b[0;34m.\u001b[0m\u001b[0mappend\u001b[0m\u001b[0;34m(\u001b[0m\u001b[0mnew_c\u001b[0m\u001b[0;34m)\u001b[0m\u001b[0;34m\u001b[0m\u001b[0m\n",
      "\u001b[0;31mNameError\u001b[0m: name 'laptops' is not defined"
     ]
    }
   ],
   "source": []
  },
  {
   "cell_type": "code",
   "execution_count": null,
   "metadata": {},
   "outputs": [],
   "source": []
  }
 ],
 "metadata": {
  "kernelspec": {
   "display_name": "Python 3",
   "language": "python",
   "name": "python3"
  },
  "language_info": {
   "codemirror_mode": {
    "name": "ipython",
    "version": 3
   },
   "file_extension": ".py",
   "mimetype": "text/x-python",
   "name": "python",
   "nbconvert_exporter": "python",
   "pygments_lexer": "ipython3",
   "version": "3.7.0"
  }
 },
 "nbformat": 4,
 "nbformat_minor": 2
}
